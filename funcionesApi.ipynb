{
 "cells": [
  {
   "cell_type": "code",
   "execution_count": 1,
   "metadata": {},
   "outputs": [],
   "source": [
    "import pandas as pd\n",
    "import numpy as np\n",
    "import ast"
   ]
  },
  {
   "cell_type": "code",
   "execution_count": 2,
   "metadata": {},
   "outputs": [],
   "source": [
    "df = pd.read_csv('PeliculasCreditos.csv',parse_dates=['release_date'])"
   ]
  },
  {
   "attachments": {},
   "cell_type": "markdown",
   "metadata": {},
   "source": [
    "Desarrollo API: Propones disponibilizar los datos de la empresa usando el framework FastAPI. Las consultas que propones son las siguientes:\n",
    "\n",
    "Deben crear 6 funciones para los endpoints que se consumirán en la API, recuerden que deben tener un decorador por cada una (@app.get(‘/’))."
   ]
  },
  {
   "attachments": {},
   "cell_type": "markdown",
   "metadata": {},
   "source": [
    "-   def cantidad_filmaciones_mes( Mes ): Se ingresa un mes en idioma Español. Debe devolver la cantidad de películas que fueron estrenadas en el mes consultado en la totalidad del dataset.\n",
    "Ejemplo de retorno: X cantidad de películas fueron estrenadas en el mes de X"
   ]
  },
  {
   "cell_type": "code",
   "execution_count": 3,
   "metadata": {},
   "outputs": [],
   "source": [
    "def cantidad_filmaciones_mes(df, mes):\n",
    "    # Mapeamos los nombres de meses en español a inglés\n",
    "    meses_espanol = {\n",
    "        'enero': 'January',\n",
    "        'febrero': 'February',\n",
    "        'marzo': 'March',\n",
    "        'abril': 'April',\n",
    "        'mayo': 'May',\n",
    "        'junio': 'June',\n",
    "        'julio': 'July',\n",
    "        'agosto': 'August',\n",
    "        'septiembre': 'September',\n",
    "        'octubre': 'October',\n",
    "        'noviembre': 'November',\n",
    "        'diciembre': 'December'\n",
    "    }\n",
    "    # Convertimos el mes a número en inglés\n",
    "    mes_numero = pd.to_datetime(meses_espanol[mes.lower()], format='%B').month\n",
    "    cantidad = sum(df['release_date'].dt.month == mes_numero)    \n",
    "    return cantidad"
   ]
  },
  {
   "cell_type": "code",
   "execution_count": 4,
   "metadata": {},
   "outputs": [
    {
     "data": {
      "text/plain": [
       "3781"
      ]
     },
     "execution_count": 4,
     "metadata": {},
     "output_type": "execute_result"
    }
   ],
   "source": [
    "cantidad_filmaciones_mes(df,'diciembre')"
   ]
  },
  {
   "attachments": {},
   "cell_type": "markdown",
   "metadata": {},
   "source": [
    "-   def cantidad_filmaciones_dia( Dia ): Se ingresa un día en idioma Español. Debe devolver la cantidad de películas que fueron estrenadas en día consultado en la totalidad del dataset.\n",
    "                    Ejemplo de retorno: X cantidad de películas fueron estrenadas en los días X"
   ]
  },
  {
   "cell_type": "code",
   "execution_count": 5,
   "metadata": {},
   "outputs": [],
   "source": [
    "def cantidad_filmaciones_dia(df, dia):\n",
    "    # Mapeo de nombres de días en español a inglés\n",
    "    dias_espanol = {\n",
    "        'lunes': 'Monday',\n",
    "        'martes': 'Tuesday',\n",
    "        'miércoles': 'Wednesday',\n",
    "        'jueves': 'Thursday',\n",
    "        'viernes': 'Friday',\n",
    "        'sábado': 'Saturday',\n",
    "        'domingo': 'Sunday'\n",
    "    }\n",
    "\n",
    "    # Convertir el día a nombre en inglés\n",
    "    dia_ingles = dias_espanol[dia.lower()]\n",
    "\n",
    "    # Filtrar el DataFrame por el día de estreno\n",
    "    cantidad = sum(df['release_date'].dt.strftime('%A') == dia_ingles)\n",
    "\n",
    "    # Devolver las películas del día\n",
    "    return cantidad"
   ]
  },
  {
   "attachments": {},
   "cell_type": "markdown",
   "metadata": {},
   "source": [
    "-   def score_titulo( titulo_de_la_filmación ): Se ingresa el título de una filmación esperando como respuesta el título, el año de estreno y el score.\n",
    "                    Ejemplo de retorno: La película X fue estrenada en el año X con un score/popularidad de X"
   ]
  },
  {
   "cell_type": "code",
   "execution_count": 6,
   "metadata": {},
   "outputs": [],
   "source": [
    "def score_titulo(df, titulo):\n",
    "    pelicula = df[df['title'] == titulo]\n",
    "    \n",
    "    anio_estreno = pelicula['release_year'].values[0]\n",
    "\n",
    "    score = pelicula['popularity'].values[0]\n",
    "\n",
    "    return titulo, anio_estreno, score"
   ]
  },
  {
   "cell_type": "code",
   "execution_count": 7,
   "metadata": {},
   "outputs": [
    {
     "data": {
      "text/plain": [
       "('Toy Story', 1995, 21.946943)"
      ]
     },
     "execution_count": 7,
     "metadata": {},
     "output_type": "execute_result"
    }
   ],
   "source": [
    "score_titulo(df,'Toy Story')"
   ]
  },
  {
   "attachments": {},
   "cell_type": "markdown",
   "metadata": {},
   "source": [
    "-   def votos_titulo( titulo_de_la_filmación ): Se ingresa el título de una filmación esperando como respuesta el título, la cantidad de votos y el valor promedio de las votaciones. La misma variable deberá de contar con al menos 2000 valoraciones, caso contrario, debemos contar con un mensaje avisando que no cumple esta condición y que por ende, no se devuelve ningun valor.\n",
    "                    Ejemplo de retorno: La película X fue estrenada en el año X. La misma cuenta con un total de X valoraciones, con un promedio de X"
   ]
  },
  {
   "cell_type": "code",
   "execution_count": 8,
   "metadata": {},
   "outputs": [],
   "source": [
    "def votos_titulo(df, titulo):\n",
    "    pelicula = df[df['title'] == titulo]\n",
    "\n",
    "    if len(pelicula) == 0:\n",
    "        print(\"No se encontró ninguna película con ese título.\")\n",
    "        return\n",
    "\n",
    "    votos = pelicula['vote_count'].values[0]\n",
    "    promedio_votos = pelicula['vote_average'].values[0]\n",
    "\n",
    "    if votos < 2000:\n",
    "        print(\"La película no cumple con la condición mínima de 2000 valoraciones.\")\n",
    "        return\n",
    "\n",
    "    return titulo, votos, promedio_votos"
   ]
  },
  {
   "cell_type": "code",
   "execution_count": 9,
   "metadata": {},
   "outputs": [
    {
     "data": {
      "text/plain": [
       "('Toy Story', 5415.0, 7.7)"
      ]
     },
     "execution_count": 9,
     "metadata": {},
     "output_type": "execute_result"
    }
   ],
   "source": [
    "votos_titulo(df,'Toy Story')"
   ]
  },
  {
   "attachments": {},
   "cell_type": "markdown",
   "metadata": {},
   "source": [
    "-   def get_actor( nombre_actor ): Se ingresa el nombre de un actor que se encuentre dentro de un dataset debiendo devolver el éxito del mismo medido a través del retorno. Además, la cantidad de películas que en las que ha participado y el promedio de retorno. La definición no deberá considerar directores.\n",
    "                    Ejemplo de retorno: El actor X ha participado de X cantidad de filmaciones, el mismo ha conseguido un retorno de X con un promedio de X por filmación"
   ]
  },
  {
   "cell_type": "code",
   "execution_count": 12,
   "metadata": {},
   "outputs": [],
   "source": [
    "def get_actor(df, nombre_actor):\n",
    "    actor = df[df['actores'].apply(lambda x: isinstance(x, str) and nombre_actor in x)]\n",
    "    \n",
    "    if len(actor) == 0:\n",
    "        print(\"El actor no se encuentra en la lista de actores.\")\n",
    "        return\n",
    "    \n",
    "    cantidad_pelis = len(actor)\n",
    "    retorno_total = actor['return'].sum()\n",
    "    promedio_retorno = retorno_total / cantidad_pelis\n",
    "\n",
    "    return nombre_actor, cantidad_pelis, retorno_total, promedio_retorno"
   ]
  },
  {
   "cell_type": "code",
   "execution_count": 13,
   "metadata": {},
   "outputs": [
    {
     "data": {
      "text/plain": [
       "('Joe Johnston', 3, 70.49072790909091, 23.496909303030304)"
      ]
     },
     "execution_count": 13,
     "metadata": {},
     "output_type": "execute_result"
    }
   ],
   "source": [
    "get_actor(df,'Joe Johnston')"
   ]
  },
  {
   "attachments": {},
   "cell_type": "markdown",
   "metadata": {},
   "source": [
    "-   def get_director( nombre_director ): Se ingresa el nombre de un director que se encuentre dentro de un dataset debiendo devolver el éxito del mismo medido a través del retorno. Además, deberá devolver el nombre de cada película con la fecha de lanzamiento, retorno individual, costo y ganancia de la misma."
   ]
  },
  {
   "cell_type": "code",
   "execution_count": 14,
   "metadata": {},
   "outputs": [],
   "source": [
    "def get_director(df, nombre_director):\n",
    "    director = df[df['Director'] == nombre_director]\n",
    "\n",
    "    if len(director) == 0:\n",
    "        print(\"El director no se encuentra en el dataset.\")\n",
    "        return\n",
    "\n",
    "    exito_director = director['return'].sum()\n",
    "    \n",
    "    peliculas_director = director[['title', 'release_date', 'return', 'budget','revenue']]\n",
    "\n",
    "    return exito_director, peliculas_director"
   ]
  },
  {
   "cell_type": "code",
   "execution_count": 15,
   "metadata": {},
   "outputs": [
    {
     "data": {
      "text/plain": [
       "(66.72252920242425,\n",
       "                            title release_date     return     budget    revenue\n",
       " 292                 Pulp Fiction   1994-09-10  26.741095    8000000  213928762\n",
       " 1055              Reservoir Dogs   1992-09-02  12.217506    1200000   14661007\n",
       " 1644                Jackie Brown   1997-12-24   3.306097   12000000   39673162\n",
       " 6719           Kill Bill: Vol. 1   2003-10-10   6.031633   30000000  180949000\n",
       " 7265           Kill Bill: Vol. 2   2004-04-16   5.071982   30000000  152159461\n",
       " 11861                Death Proof   2007-05-21   1.001516   25000000   25037897\n",
       " 13595       Inglourious Basterds   2009-08-18   4.559015   70000000  319131050\n",
       " 20025           Django Unchained   2012-12-25   4.253682  100000000  425368238\n",
       " 28082          The Hateful Eight   2015-12-25   3.540003   44000000  155760117\n",
       " 41148  My Best Friend's Birthday   1987-01-01   0.000000          0          0)"
      ]
     },
     "execution_count": 15,
     "metadata": {},
     "output_type": "execute_result"
    }
   ],
   "source": [
    "get_director(df, 'Quentin Tarantino')"
   ]
  }
 ],
 "metadata": {
  "kernelspec": {
   "display_name": "Python 3",
   "language": "python",
   "name": "python3"
  },
  "language_info": {
   "codemirror_mode": {
    "name": "ipython",
    "version": 3
   },
   "file_extension": ".py",
   "mimetype": "text/x-python",
   "name": "python",
   "nbconvert_exporter": "python",
   "pygments_lexer": "ipython3",
   "version": "3.11.2"
  },
  "orig_nbformat": 4
 },
 "nbformat": 4,
 "nbformat_minor": 2
}
